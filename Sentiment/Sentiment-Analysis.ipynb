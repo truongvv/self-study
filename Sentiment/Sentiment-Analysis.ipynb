{
 "cells": [
  {
   "cell_type": "markdown",
   "metadata": {},
   "source": [
    "### Movie Reviews"
   ]
  },
  {
   "cell_type": "code",
   "execution_count": 194,
   "metadata": {},
   "outputs": [],
   "source": [
    "import nltk\n",
    "from nltk.corpus import movie_reviews\n",
    "import random"
   ]
  },
  {
   "cell_type": "code",
   "execution_count": 195,
   "metadata": {},
   "outputs": [],
   "source": [
    "documents = [(list(movie_reviews.words(fileid)), category)\n",
    "              for category in movie_reviews.categories()\n",
    "              for fileid in movie_reviews.fileids(category)]\n"
   ]
  },
  {
   "cell_type": "code",
   "execution_count": 196,
   "metadata": {},
   "outputs": [],
   "source": [
    "review_sample = documents[0][0]"
   ]
  },
  {
   "cell_type": "markdown",
   "metadata": {},
   "source": [
    "#### Tokenize"
   ]
  },
  {
   "cell_type": "code",
   "execution_count": 197,
   "metadata": {},
   "outputs": [
    {
     "name": "stdout",
     "output_type": "stream",
     "text": [
      "[('plot', 'NN'), (':', ':'), ('two', 'CD'), ('teen', 'NN'), ('couples', 'NNS'), ('go', 'VBP'), ('to', 'TO'), ('a', 'DT'), ('church', 'NN'), ('party', 'NN'), (',', ','), ('drink', 'NN'), ('and', 'CC'), ('then', 'RB'), ('drive', 'NN'), ('.', '.'), ('they', 'PRP'), ('get', 'VBP'), ('into', 'IN'), ('an', 'DT'), ('accident', 'NN'), ('.', '.'), ('one', 'CD'), ('of', 'IN'), ('the', 'DT'), ('guys', 'NN'), ('dies', 'VBZ'), (',', ','), ('but', 'CC'), ('his', 'PRP$'), ('girlfriend', 'NN'), ('continues', 'VBZ'), ('to', 'TO'), ('see', 'VB'), ('him', 'PRP'), ('in', 'IN'), ('her', 'PRP$'), ('life', 'NN'), (',', ','), ('and', 'CC'), ('has', 'VBZ'), ('nightmares', 'NNS'), ('.', '.'), ('what', 'WP'), (\"'\", \"''\"), ('s', 'VBD'), ('the', 'DT'), ('deal', 'NN'), ('?', '.'), ('watch', 'VB'), ('the', 'DT'), ('movie', 'NN'), ('and', 'CC'), ('\"', 'NNP'), ('sorta', 'VBP'), ('\"', 'NNP'), ('find', 'VBP'), ('out', 'RP'), ('.', '.'), ('.', '.'), ('.', '.'), ('critique', 'NN'), (':', ':'), ('a', 'DT'), ('mind', 'NN'), ('-', ':'), ('fuck', 'JJ'), ('movie', 'NN'), ('for', 'IN'), ('the', 'DT'), ('teen', 'JJ'), ('generation', 'NN'), ('that', 'WDT'), ('touches', 'VBZ'), ('on', 'IN'), ('a', 'DT'), ('very', 'RB'), ('cool', 'JJ'), ('idea', 'NN'), (',', ','), ('but', 'CC'), ('presents', 'VBZ'), ('it', 'PRP'), ('in', 'IN'), ('a', 'DT'), ('very', 'RB'), ('bad', 'JJ'), ('package', 'NN'), ('.', '.'), ('which', 'WDT'), ('is', 'VBZ'), ('what', 'WP'), ('makes', 'VBZ'), ('this', 'DT'), ('review', 'NN'), ('an', 'DT'), ('even', 'RB'), ('harder', 'RBR'), ('one', 'CD'), ('to', 'TO'), ('write', 'VB'), (',', ','), ('since', 'IN'), ('i', 'NN'), ('generally', 'RB'), ('applaud', 'VBP'), ('films', 'NNS'), ('which', 'WDT'), ('attempt', 'VBP'), ('to', 'TO'), ('break', 'VB'), ('the', 'DT'), ('mold', 'NN'), (',', ','), ('mess', 'NN'), ('with', 'IN'), ('your', 'PRP$'), ('head', 'NN'), ('and', 'CC'), ('such', 'JJ'), ('(', '('), ('lost', 'VBN'), ('highway', 'NN'), ('&', 'CC'), ('memento', 'NN'), (')', ')'), (',', ','), ('but', 'CC'), ('there', 'EX'), ('are', 'VBP'), ('good', 'JJ'), ('and', 'CC'), ('bad', 'JJ'), ('ways', 'NNS'), ('of', 'IN'), ('making', 'VBG'), ('all', 'DT'), ('types', 'NNS'), ('of', 'IN'), ('films', 'NNS'), (',', ','), ('and', 'CC'), ('these', 'DT'), ('folks', 'NNS'), ('just', 'RB'), ('didn', 'VBP'), (\"'\", \"''\"), ('t', 'JJ'), ('snag', 'NN'), ('this', 'DT'), ('one', 'CD'), ('correctly', 'RB'), ('.', '.'), ('they', 'PRP'), ('seem', 'VBP'), ('to', 'TO'), ('have', 'VB'), ('taken', 'VBN'), ('this', 'DT'), ('pretty', 'RB'), ('neat', 'JJ'), ('concept', 'NN'), (',', ','), ('but', 'CC'), ('executed', 'VBD'), ('it', 'PRP'), ('terribly', 'RB'), ('.', '.'), ('so', 'IN'), ('what', 'WP'), ('are', 'VBP'), ('the', 'DT'), ('problems', 'NNS'), ('with', 'IN'), ('the', 'DT'), ('movie', 'NN'), ('?', '.'), ('well', 'RB'), (',', ','), ('its', 'PRP$'), ('main', 'JJ'), ('problem', 'NN'), ('is', 'VBZ'), ('that', 'IN'), ('it', 'PRP'), (\"'\", \"''\"), ('s', 'JJ'), ('simply', 'RB'), ('too', 'RB'), ('jumbled', 'VBN'), ('.', '.'), ('it', 'PRP'), ('starts', 'VBZ'), ('off', 'IN'), ('\"', 'NN'), ('normal', 'JJ'), ('\"', 'NNS'), ('but', 'CC'), ('then', 'RB'), ('downshifts', 'VBZ'), ('into', 'IN'), ('this', 'DT'), ('\"', 'JJ'), ('fantasy', 'NN'), ('\"', 'NNP'), ('world', 'NN'), ('in', 'IN'), ('which', 'WDT'), ('you', 'PRP'), (',', ','), ('as', 'IN'), ('an', 'DT'), ('audience', 'NN'), ('member', 'NN'), (',', ','), ('have', 'VBP'), ('no', 'DT'), ('idea', 'NN'), ('what', 'WP'), (\"'\", \"''\"), ('s', 'NN'), ('going', 'VBG'), ('on', 'IN'), ('.', '.'), ('there', 'EX'), ('are', 'VBP'), ('dreams', 'NNS'), (',', ','), ('there', 'EX'), ('are', 'VBP'), ('characters', 'NNS'), ('coming', 'VBG'), ('back', 'RB'), ('from', 'IN'), ('the', 'DT'), ('dead', 'JJ'), (',', ','), ('there', 'EX'), ('are', 'VBP'), ('others', 'NNS'), ('who', 'WP'), ('look', 'VBP'), ('like', 'IN'), ('the', 'DT'), ('dead', 'JJ'), (',', ','), ('there', 'EX'), ('are', 'VBP'), ('strange', 'JJ'), ('apparitions', 'NNS'), (',', ','), ('there', 'EX'), ('are', 'VBP'), ('disappearances', 'NNS'), (',', ','), ('there', 'EX'), ('are', 'VBP'), ('a', 'DT'), ('looooot', 'NN'), ('of', 'IN'), ('chase', 'NN'), ('scenes', 'NNS'), (',', ','), ('there', 'EX'), ('are', 'VBP'), ('tons', 'NNS'), ('of', 'IN'), ('weird', 'JJ'), ('things', 'NNS'), ('that', 'WDT'), ('happen', 'VBP'), (',', ','), ('and', 'CC'), ('most', 'JJS'), ('of', 'IN'), ('it', 'PRP'), ('is', 'VBZ'), ('simply', 'RB'), ('not', 'RB'), ('explained', 'VBN'), ('.', '.'), ('now', 'RB'), ('i', 'VBZ'), ('personally', 'RB'), ('don', 'JJ'), (\"'\", \"''\"), ('t', 'JJ'), ('mind', 'NN'), ('trying', 'VBG'), ('to', 'TO'), ('unravel', 'VB'), ('a', 'DT'), ('film', 'NN'), ('every', 'DT'), ('now', 'RB'), ('and', 'CC'), ('then', 'RB'), (',', ','), ('but', 'CC'), ('when', 'WRB'), ('all', 'DT'), ('it', 'PRP'), ('does', 'VBZ'), ('is', 'VBZ'), ('give', 'VB'), ('me', 'PRP'), ('the', 'DT'), ('same', 'JJ'), ('clue', 'NN'), ('over', 'IN'), ('and', 'CC'), ('over', 'RB'), ('again', 'RB'), (',', ','), ('i', 'JJ'), ('get', 'VBP'), ('kind', 'NN'), ('of', 'IN'), ('fed', 'VBN'), ('up', 'RP'), ('after', 'IN'), ('a', 'DT'), ('while', 'NN'), (',', ','), ('which', 'WDT'), ('is', 'VBZ'), ('this', 'DT'), ('film', 'NN'), (\"'\", \"''\"), ('s', 'JJ'), ('biggest', 'JJS'), ('problem', 'NN'), ('.', '.'), ('it', 'PRP'), (\"'\", \"''\"), ('s', 'JJ'), ('obviously', 'RB'), ('got', 'VBD'), ('this', 'DT'), ('big', 'JJ'), ('secret', 'NN'), ('to', 'TO'), ('hide', 'VB'), (',', ','), ('but', 'CC'), ('it', 'PRP'), ('seems', 'VBZ'), ('to', 'TO'), ('want', 'VB'), ('to', 'TO'), ('hide', 'VB'), ('it', 'PRP'), ('completely', 'RB'), ('until', 'IN'), ('its', 'PRP$'), ('final', 'JJ'), ('five', 'CD'), ('minutes', 'NNS'), ('.', '.'), ('and', 'CC'), ('do', 'VBP'), ('they', 'PRP'), ('make', 'VB'), ('things', 'NNS'), ('entertaining', 'VBG'), (',', ','), ('thrilling', 'VBG'), ('or', 'CC'), ('even', 'RB'), ('engaging', 'VBG'), (',', ','), ('in', 'IN'), ('the', 'DT'), ('meantime', 'NN'), ('?', '.'), ('not', 'RB'), ('really', 'RB'), ('.', '.'), ('the', 'DT'), ('sad', 'JJ'), ('part', 'NN'), ('is', 'VBZ'), ('that', 'IN'), ('the', 'DT'), ('arrow', 'NN'), ('and', 'CC'), ('i', 'VB'), ('both', 'DT'), ('dig', 'NN'), ('on', 'IN'), ('flicks', 'NNS'), ('like', 'IN'), ('this', 'DT'), (',', ','), ('so', 'IN'), ('we', 'PRP'), ('actually', 'RB'), ('figured', 'VBD'), ('most', 'JJS'), ('of', 'IN'), ('it', 'PRP'), ('out', 'RP'), ('by', 'IN'), ('the', 'DT'), ('half', 'JJ'), ('-', ':'), ('way', 'NN'), ('point', 'NN'), (',', ','), ('so', 'IN'), ('all', 'DT'), ('of', 'IN'), ('the', 'DT'), ('strangeness', 'NN'), ('after', 'IN'), ('that', 'DT'), ('did', 'VBD'), ('start', 'VB'), ('to', 'TO'), ('make', 'VB'), ('a', 'DT'), ('little', 'JJ'), ('bit', 'NN'), ('of', 'IN'), ('sense', 'NN'), (',', ','), ('but', 'CC'), ('it', 'PRP'), ('still', 'RB'), ('didn', 'VBZ'), (\"'\", \"''\"), ('t', 'IN'), ('the', 'DT'), ('make', 'NN'), ('the', 'DT'), ('film', 'NN'), ('all', 'PDT'), ('that', 'IN'), ('more', 'JJR'), ('entertaining', 'NN'), ('.', '.'), ('i', 'NN'), ('guess', 'VBD'), ('the', 'DT'), ('bottom', 'JJ'), ('line', 'NN'), ('with', 'IN'), ('movies', 'NNS'), ('like', 'IN'), ('this', 'DT'), ('is', 'VBZ'), ('that', 'IN'), ('you', 'PRP'), ('should', 'MD'), ('always', 'RB'), ('make', 'VB'), ('sure', 'JJ'), ('that', 'IN'), ('the', 'DT'), ('audience', 'NN'), ('is', 'VBZ'), ('\"', 'VBN'), ('into', 'IN'), ('it', 'PRP'), ('\"', 'VBD'), ('even', 'RB'), ('before', 'IN'), ('they', 'PRP'), ('are', 'VBP'), ('given', 'VBN'), ('the', 'DT'), ('secret', 'JJ'), ('password', 'NN'), ('to', 'TO'), ('enter', 'VB'), ('your', 'PRP$'), ('world', 'NN'), ('of', 'IN'), ('understanding', 'VBG'), ('.', '.'), ('i', 'JJ'), ('mean', 'VBP'), (',', ','), ('showing', 'VBG'), ('melissa', 'JJ'), ('sagemiller', 'NN'), ('running', 'VBG'), ('away', 'RB'), ('from', 'IN'), ('visions', 'NNS'), ('for', 'IN'), ('about', 'IN'), ('20', 'CD'), ('minutes', 'NNS'), ('throughout', 'IN'), ('the', 'DT'), ('movie', 'NN'), ('is', 'VBZ'), ('just', 'RB'), ('plain', 'JJ'), ('lazy', 'JJ'), ('!', '.'), ('!', '.'), ('okay', 'NN'), (',', ','), ('we', 'PRP'), ('get', 'VBP'), ('it', 'PRP'), ('.', '.'), ('.', '.'), ('.', '.'), ('there', 'EX'), ('are', 'VBP'), ('people', 'NNS'), ('chasing', 'VBG'), ('her', 'PRP$'), ('and', 'CC'), ('we', 'PRP'), ('don', 'VBP'), (\"'\", \"''\"), ('t', 'NNS'), ('know', 'VBP'), ('who', 'WP'), ('they', 'PRP'), ('are', 'VBP'), ('.', '.'), ('do', 'VBP'), ('we', 'PRP'), ('really', 'RB'), ('need', 'VB'), ('to', 'TO'), ('see', 'VB'), ('it', 'PRP'), ('over', 'IN'), ('and', 'CC'), ('over', 'RB'), ('again', 'RB'), ('?', '.'), ('how', 'WRB'), ('about', 'IN'), ('giving', 'VBG'), ('us', 'PRP'), ('different', 'JJ'), ('scenes', 'NNS'), ('offering', 'VBG'), ('further', 'JJ'), ('insight', 'NN'), ('into', 'IN'), ('all', 'DT'), ('of', 'IN'), ('the', 'DT'), ('strangeness', 'NN'), ('going', 'VBG'), ('down', 'RP'), ('in', 'IN'), ('the', 'DT'), ('movie', 'NN'), ('?', '.'), ('apparently', 'RB'), (',', ','), ('the', 'DT'), ('studio', 'NN'), ('took', 'VBD'), ('this', 'DT'), ('film', 'NN'), ('away', 'RB'), ('from', 'IN'), ('its', 'PRP$'), ('director', 'NN'), ('and', 'CC'), ('chopped', 'VBD'), ('it', 'PRP'), ('up', 'RP'), ('themselves', 'PRP'), (',', ','), ('and', 'CC'), ('it', 'PRP'), ('shows', 'VBZ'), ('.', '.'), ('there', 'EX'), ('might', 'MD'), (\"'\", \"''\"), ('ve', 'RB'), ('been', 'VBN'), ('a', 'DT'), ('pretty', 'JJ'), ('decent', 'NN'), ('teen', 'NN'), ('mind', 'SYM'), ('-', ':'), ('fuck', 'JJ'), ('movie', 'NN'), ('in', 'IN'), ('here', 'RB'), ('somewhere', 'RB'), (',', ','), ('but', 'CC'), ('i', 'JJ'), ('guess', 'NN'), ('\"', 'VBD'), ('the', 'DT'), ('suits', 'NNS'), ('\"', 'VBP'), ('decided', 'VBD'), ('that', 'IN'), ('turning', 'VBG'), ('it', 'PRP'), ('into', 'IN'), ('a', 'DT'), ('music', 'NN'), ('video', 'NN'), ('with', 'IN'), ('little', 'JJ'), ('edge', 'NN'), (',', ','), ('would', 'MD'), ('make', 'VB'), ('more', 'JJR'), ('sense', 'NN'), ('.', '.'), ('the', 'DT'), ('actors', 'NNS'), ('are', 'VBP'), ('pretty', 'RB'), ('good', 'JJ'), ('for', 'IN'), ('the', 'DT'), ('most', 'JJS'), ('part', 'NN'), (',', ','), ('although', 'IN'), ('wes', 'JJ'), ('bentley', 'NN'), ('just', 'RB'), ('seemed', 'VBD'), ('to', 'TO'), ('be', 'VB'), ('playing', 'VBG'), ('the', 'DT'), ('exact', 'JJ'), ('same', 'JJ'), ('character', 'NN'), ('that', 'IN'), ('he', 'PRP'), ('did', 'VBD'), ('in', 'IN'), ('american', 'JJ'), ('beauty', 'NN'), (',', ','), ('only', 'RB'), ('in', 'IN'), ('a', 'DT'), ('new', 'JJ'), ('neighborhood', 'NN'), ('.', '.'), ('but', 'CC'), ('my', 'PRP$'), ('biggest', 'JJS'), ('kudos', 'NN'), ('go', 'VBP'), ('out', 'RP'), ('to', 'TO'), ('sagemiller', 'VB'), (',', ','), ('who', 'WP'), ('holds', 'VBZ'), ('her', 'PRP$'), ('own', 'JJ'), ('throughout', 'IN'), ('the', 'DT'), ('entire', 'JJ'), ('film', 'NN'), (',', ','), ('and', 'CC'), ('actually', 'RB'), ('has', 'VBZ'), ('you', 'PRP'), ('feeling', 'VBG'), ('her', 'PRP$'), ('character', 'NN'), (\"'\", \"''\"), ('s', 'JJ'), ('unraveling', 'NN'), ('.', '.'), ('overall', 'JJ'), (',', ','), ('the', 'DT'), ('film', 'NN'), ('doesn', 'NN'), (\"'\", \"''\"), ('t', 'JJ'), ('stick', 'NN'), ('because', 'IN'), ('it', 'PRP'), ('doesn', 'VBZ'), (\"'\", \"''\"), ('t', 'NN'), ('entertain', 'NN'), (',', ','), ('it', 'PRP'), (\"'\", \"''\"), ('s', 'JJ'), ('confusing', 'NN'), (',', ','), ('it', 'PRP'), ('rarely', 'RB'), ('excites', 'VBZ'), ('and', 'CC'), ('it', 'PRP'), ('feels', 'VBZ'), ('pretty', 'JJ'), ('redundant', 'NN'), ('for', 'IN'), ('most', 'JJS'), ('of', 'IN'), ('its', 'PRP$'), ('runtime', 'NN'), (',', ','), ('despite', 'IN'), ('a', 'DT'), ('pretty', 'JJ'), ('cool', 'NN'), ('ending', 'VBG'), ('and', 'CC'), ('explanation', 'NN'), ('to', 'TO'), ('all', 'DT'), ('of', 'IN'), ('the', 'DT'), ('craziness', 'NN'), ('that', 'WDT'), ('came', 'VBD'), ('before', 'IN'), ('it', 'PRP'), ('.', '.'), ('oh', 'UH'), (',', ','), ('and', 'CC'), ('by', 'IN'), ('the', 'DT'), ('way', 'NN'), (',', ','), ('this', 'DT'), ('is', 'VBZ'), ('not', 'RB'), ('a', 'DT'), ('horror', 'NN'), ('or', 'CC'), ('teen', 'JJ'), ('slasher', 'JJR'), ('flick', 'NN'), ('.', '.'), ('.', '.'), ('.', '.'), ('it', 'PRP'), (\"'\", \"''\"), ('s', 'JJ'), ('just', 'RB'), ('packaged', 'VBN'), ('to', 'TO'), ('look', 'VB'), ('that', 'DT'), ('way', 'NN'), ('because', 'IN'), ('someone', 'NN'), ('is', 'VBZ'), ('apparently', 'RB'), ('assuming', 'VBG'), ('that', 'IN'), ('the', 'DT'), ('genre', 'NN'), ('is', 'VBZ'), ('still', 'RB'), ('hot', 'JJ'), ('with', 'IN'), ('the', 'DT'), ('kids', 'NNS'), ('.', '.'), ('it', 'PRP'), ('also', 'RB'), ('wrapped', 'VBD'), ('production', 'NN'), ('two', 'CD'), ('years', 'NNS'), ('ago', 'RB'), ('and', 'CC'), ('has', 'VBZ'), ('been', 'VBN'), ('sitting', 'VBG'), ('on', 'IN'), ('the', 'DT'), ('shelves', 'NNS'), ('ever', 'RB'), ('since', 'IN'), ('.', '.'), ('whatever', 'NN'), ('.', '.'), ('.', '.'), ('.', '.'), ('skip', 'VB'), ('it', 'PRP'), ('!', '.'), ('where', 'WRB'), (\"'\", \"''\"), ('s', 'JJ'), ('joblo', 'NN'), ('coming', 'VBG'), ('from', 'IN'), ('?', '.'), ('a', 'DT'), ('nightmare', 'NN'), ('of', 'IN'), ('elm', 'JJ'), ('street', 'NN'), ('3', 'CD'), ('(', '('), ('7', 'CD'), ('/', 'RB'), ('10', 'CD'), (')', ')'), ('-', ':'), ('blair', 'NN'), ('witch', 'NN'), ('2', 'CD'), ('(', '('), ('7', 'CD'), ('/', 'RB'), ('10', 'CD'), (')', ')'), ('-', ':'), ('the', 'DT'), ('crow', 'NN'), ('(', '('), ('9', 'CD'), ('/', 'RB'), ('10', 'CD'), (')', ')'), ('-', ':'), ('the', 'DT'), ('crow', 'NN'), (':', ':'), ('salvation', 'NN'), ('(', '('), ('4', 'CD'), ('/', 'RB'), ('10', 'CD'), (')', ')'), ('-', ':'), ('lost', 'VBN'), ('highway', 'NN'), ('(', '('), ('10', 'CD'), ('/', 'RB'), ('10', 'CD'), (')', ')'), ('-', ':'), ('memento', 'NN'), ('(', '('), ('10', 'CD'), ('/', 'RB'), ('10', 'CD'), (')', ')'), ('-', ':'), ('the', 'DT'), ('others', 'NNS'), ('(', '('), ('9', 'CD'), ('/', 'RB'), ('10', 'CD'), (')', ')'), ('-', ':'), ('stir', 'NN'), ('of', 'IN'), ('echoes', 'NNS'), ('(', '('), ('8', 'CD'), ('/', 'RB'), ('10', 'CD'), (')', ')')]\n"
     ]
    }
   ],
   "source": [
    "from nltk.tag import pos_tag\n",
    "\n",
    "print(pos_tag(review_sample))"
   ]
  },
  {
   "cell_type": "markdown",
   "metadata": {},
   "source": [
    "#### Normalize"
   ]
  },
  {
   "cell_type": "code",
   "execution_count": 198,
   "metadata": {},
   "outputs": [
    {
     "name": "stdout",
     "output_type": "stream",
     "text": [
      "['plot', ':', 'two', 'teen', 'couple', 'go', 'to', 'a', 'church', 'party', ',', 'drink', 'and', 'then', 'drive', '.', 'they', 'get', 'into', 'an', 'accident', '.', 'one', 'of', 'the', 'guy', 'die', ',', 'but', 'his', 'girlfriend', 'continue', 'to', 'see', 'him', 'in', 'her', 'life', ',', 'and', 'have', 'nightmare', '.', 'what', \"'\", 's', 'the', 'deal', '?', 'watch', 'the', 'movie', 'and', '\"', 'sorta', '\"', 'find', 'out', '.', '.', '.', 'critique', ':', 'a', 'mind', '-', 'fuck', 'movie', 'for', 'the', 'teen', 'generation', 'that', 'touch', 'on', 'a', 'very', 'cool', 'idea', ',', 'but', 'present', 'it', 'in', 'a', 'very', 'bad', 'package', '.', 'which', 'be', 'what', 'make', 'this', 'review', 'an', 'even', 'hard', 'one', 'to', 'write', ',', 'since', 'i', 'generally', 'applaud', 'film', 'which', 'attempt', 'to', 'break', 'the', 'mold', ',', 'mess', 'with', 'your', 'head', 'and', 'such', '(', 'lose', 'highway', '&', 'memento', ')', ',', 'but', 'there', 'be', 'good', 'and', 'bad', 'way', 'of', 'make', 'all', 'type', 'of', 'film', ',', 'and', 'these', 'folk', 'just', 'didn', \"'\", 't', 'snag', 'this', 'one', 'correctly', '.', 'they', 'seem', 'to', 'have', 'take', 'this', 'pretty', 'neat', 'concept', ',', 'but', 'execute', 'it', 'terribly', '.', 'so', 'what', 'be', 'the', 'problem', 'with', 'the', 'movie', '?', 'well', ',', 'its', 'main', 'problem', 'be', 'that', 'it', \"'\", 's', 'simply', 'too', 'jumble', '.', 'it', 'start', 'off', '\"', 'normal', '\"', 'but', 'then', 'downshifts', 'into', 'this', '\"', 'fantasy', '\"', 'world', 'in', 'which', 'you', ',', 'as', 'an', 'audience', 'member', ',', 'have', 'no', 'idea', 'what', \"'\", 's', 'go', 'on', '.', 'there', 'be', 'dream', ',', 'there', 'be', 'character', 'come', 'back', 'from', 'the', 'dead', ',', 'there', 'be', 'others', 'who', 'look', 'like', 'the', 'dead', ',', 'there', 'be', 'strange', 'apparition', ',', 'there', 'be', 'disappearance', ',', 'there', 'be', 'a', 'looooot', 'of', 'chase', 'scene', ',', 'there', 'be', 'ton', 'of', 'weird', 'thing', 'that', 'happen', ',', 'and', 'most', 'of', 'it', 'be', 'simply', 'not', 'explain', '.', 'now', 'i', 'personally', 'don', \"'\", 't', 'mind', 'try', 'to', 'unravel', 'a', 'film', 'every', 'now', 'and', 'then', ',', 'but', 'when', 'all', 'it', 'do', 'be', 'give', 'me', 'the', 'same', 'clue', 'over', 'and', 'over', 'again', ',', 'i', 'get', 'kind', 'of', 'feed', 'up', 'after', 'a', 'while', ',', 'which', 'be', 'this', 'film', \"'\", 's', 'big', 'problem', '.', 'it', \"'\", 's', 'obviously', 'get', 'this', 'big', 'secret', 'to', 'hide', ',', 'but', 'it', 'seem', 'to', 'want', 'to', 'hide', 'it', 'completely', 'until', 'its', 'final', 'five', 'minute', '.', 'and', 'do', 'they', 'make', 'thing', 'entertain', ',', 'thrill', 'or', 'even', 'engage', ',', 'in', 'the', 'meantime', '?', 'not', 'really', '.', 'the', 'sad', 'part', 'be', 'that', 'the', 'arrow', 'and', 'i', 'both', 'dig', 'on', 'flick', 'like', 'this', ',', 'so', 'we', 'actually', 'figure', 'most', 'of', 'it', 'out', 'by', 'the', 'half', '-', 'way', 'point', ',', 'so', 'all', 'of', 'the', 'strangeness', 'after', 'that', 'do', 'start', 'to', 'make', 'a', 'little', 'bit', 'of', 'sense', ',', 'but', 'it', 'still', 'didn', \"'\", 't', 'the', 'make', 'the', 'film', 'all', 'that', 'more', 'entertaining', '.', 'i', 'guess', 'the', 'bottom', 'line', 'with', 'movie', 'like', 'this', 'be', 'that', 'you', 'should', 'always', 'make', 'sure', 'that', 'the', 'audience', 'be', '\"', 'into', 'it', '\"', 'even', 'before', 'they', 'be', 'give', 'the', 'secret', 'password', 'to', 'enter', 'your', 'world', 'of', 'understand', '.', 'i', 'mean', ',', 'show', 'melissa', 'sagemiller', 'run', 'away', 'from', 'vision', 'for', 'about', '20', 'minute', 'throughout', 'the', 'movie', 'be', 'just', 'plain', 'lazy', '!', '!', 'okay', ',', 'we', 'get', 'it', '.', '.', '.', 'there', 'be', 'people', 'chase', 'her', 'and', 'we', 'don', \"'\", 't', 'know', 'who', 'they', 'be', '.', 'do', 'we', 'really', 'need', 'to', 'see', 'it', 'over', 'and', 'over', 'again', '?', 'how', 'about', 'give', 'us', 'different', 'scene', 'offer', 'further', 'insight', 'into', 'all', 'of', 'the', 'strangeness', 'go', 'down', 'in', 'the', 'movie', '?', 'apparently', ',', 'the', 'studio', 'take', 'this', 'film', 'away', 'from', 'its', 'director', 'and', 'chop', 'it', 'up', 'themselves', ',', 'and', 'it', 'show', '.', 'there', 'might', \"'\", 've', 'be', 'a', 'pretty', 'decent', 'teen', 'mind', '-', 'fuck', 'movie', 'in', 'here', 'somewhere', ',', 'but', 'i', 'guess', '\"', 'the', 'suit', '\"', 'decide', 'that', 'turn', 'it', 'into', 'a', 'music', 'video', 'with', 'little', 'edge', ',', 'would', 'make', 'more', 'sense', '.', 'the', 'actor', 'be', 'pretty', 'good', 'for', 'the', 'most', 'part', ',', 'although', 'wes', 'bentley', 'just', 'seem', 'to', 'be', 'play', 'the', 'exact', 'same', 'character', 'that', 'he', 'do', 'in', 'american', 'beauty', ',', 'only', 'in', 'a', 'new', 'neighborhood', '.', 'but', 'my', 'big', 'kudos', 'go', 'out', 'to', 'sagemiller', ',', 'who', 'hold', 'her', 'own', 'throughout', 'the', 'entire', 'film', ',', 'and', 'actually', 'have', 'you', 'feel', 'her', 'character', \"'\", 's', 'unraveling', '.', 'overall', ',', 'the', 'film', 'doesn', \"'\", 't', 'stick', 'because', 'it', 'doesn', \"'\", 't', 'entertain', ',', 'it', \"'\", 's', 'confusing', ',', 'it', 'rarely', 'excite', 'and', 'it', 'feel', 'pretty', 'redundant', 'for', 'most', 'of', 'its', 'runtime', ',', 'despite', 'a', 'pretty', 'cool', 'end', 'and', 'explanation', 'to', 'all', 'of', 'the', 'craziness', 'that', 'come', 'before', 'it', '.', 'oh', ',', 'and', 'by', 'the', 'way', ',', 'this', 'be', 'not', 'a', 'horror', 'or', 'teen', 'slasher', 'flick', '.', '.', '.', 'it', \"'\", 's', 'just', 'package', 'to', 'look', 'that', 'way', 'because', 'someone', 'be', 'apparently', 'assume', 'that', 'the', 'genre', 'be', 'still', 'hot', 'with', 'the', 'kid', '.', 'it', 'also', 'wrap', 'production', 'two', 'year', 'ago', 'and', 'have', 'be', 'sit', 'on', 'the', 'shelf', 'ever', 'since', '.', 'whatever', '.', '.', '.', 'skip', 'it', '!', 'where', \"'\", 's', 'joblo', 'come', 'from', '?', 'a', 'nightmare', 'of', 'elm', 'street', '3', '(', '7', '/', '10', ')', '-', 'blair', 'witch', '2', '(', '7', '/', '10', ')', '-', 'the', 'crow', '(', '9', '/', '10', ')', '-', 'the', 'crow', ':', 'salvation', '(', '4', '/', '10', ')', '-', 'lose', 'highway', '(', '10', '/', '10', ')', '-', 'memento', '(', '10', '/', '10', ')', '-', 'the', 'others', '(', '9', '/', '10', ')', '-', 'stir', 'of', 'echo', '(', '8', '/', '10', ')']\n"
     ]
    }
   ],
   "source": [
    "from nltk.tag import pos_tag\n",
    "from nltk.stem.wordnet import WordNetLemmatizer\n",
    "\n",
    "def lemmatize_sentence(tokens):\n",
    "    lemmatizer = WordNetLemmatizer()\n",
    "    lemmatized_sentence = []\n",
    "    for word, tag in pos_tag(tokens):\n",
    "        if tag.startswith('NN'):\n",
    "            pos = 'n'\n",
    "        elif tag.startswith('VB'):\n",
    "            pos = 'v'\n",
    "        else:\n",
    "            pos = 'a'\n",
    "        lemmatized_sentence.append(lemmatizer.lemmatize(word, pos))\n",
    "    return lemmatized_sentence\n",
    "\n",
    "print(lemmatize_sentence(review_sample))"
   ]
  },
  {
   "cell_type": "markdown",
   "metadata": {},
   "source": [
    "#### Remove noise"
   ]
  },
  {
   "cell_type": "code",
   "execution_count": 199,
   "metadata": {},
   "outputs": [],
   "source": [
    "import re, string\n",
    "\n",
    "def remove_noise(tweet_tokens, stop_words = ()):\n",
    "\n",
    "    cleaned_tokens = []\n",
    "\n",
    "    for token, tag in pos_tag(tweet_tokens):\n",
    "        token = re.sub('http[s]?://(?:[a-zA-Z]|[0-9]|[$-_@.&+#]|[!*\\(\\),]|'\\\n",
    "                       '(?:%[0-9a-fA-F][0-9a-fA-F]))+','', token)\n",
    "        token = re.sub(\"(@[A-Za-z0-9_]+)\",\"\", token)\n",
    "\n",
    "        if tag.startswith(\"NN\"):\n",
    "            pos = 'n'\n",
    "        elif tag.startswith('VB'):\n",
    "            pos = 'v'\n",
    "        else:\n",
    "            pos = 'a'\n",
    "\n",
    "        lemmatizer = WordNetLemmatizer()\n",
    "        token = lemmatizer.lemmatize(token, pos)\n",
    "\n",
    "        if len(token) > 0 and token not in string.punctuation and token.lower() not in stop_words:\n",
    "            cleaned_tokens.append(token.lower())\n",
    "    return cleaned_tokens"
   ]
  },
  {
   "cell_type": "code",
   "execution_count": 200,
   "metadata": {},
   "outputs": [
    {
     "name": "stdout",
     "output_type": "stream",
     "text": [
      "['plot', 'two', 'teen', 'couple', 'go', 'church', 'party', 'drink', 'drive', 'get', 'accident', 'one', 'guy', 'die', 'girlfriend', 'continue', 'see', 'life', 'nightmare', 'deal', 'watch', 'movie', 'sorta', 'find', 'critique', 'mind', 'fuck', 'movie', 'teen', 'generation', 'touch', 'cool', 'idea', 'present', 'bad', 'package', 'make', 'review', 'even', 'hard', 'one', 'write', 'since', 'generally', 'applaud', 'film', 'attempt', 'break', 'mold', 'mess', 'head', 'lose', 'highway', 'memento', 'good', 'bad', 'way', 'make', 'type', 'film', 'folk', 'snag', 'one', 'correctly', 'seem', 'take', 'pretty', 'neat', 'concept', 'execute', 'terribly', 'problem', 'movie', 'well', 'main', 'problem', 'simply', 'jumble', 'start', 'normal', 'downshifts', 'fantasy', 'world', 'audience', 'member', 'idea', 'go', 'dream', 'character', 'come', 'back', 'dead', 'others', 'look', 'like', 'dead', 'strange', 'apparition', 'disappearance', 'looooot', 'chase', 'scene', 'ton', 'weird', 'thing', 'happen', 'simply', 'explain', 'personally', 'mind', 'try', 'unravel', 'film', 'every', 'give', 'clue', 'get', 'kind', 'feed', 'film', 'big', 'problem', 'obviously', 'get', 'big', 'secret', 'hide', 'seem', 'want', 'hide', 'completely', 'final', 'five', 'minute', 'make', 'thing', 'entertain', 'thrill', 'even', 'engage', 'meantime', 'really', 'sad', 'part', 'arrow', 'dig', 'flick', 'like', 'actually', 'figure', 'half', 'way', 'point', 'strangeness', 'start', 'make', 'little', 'bit', 'sense', 'still', 'make', 'film', 'entertaining', 'guess', 'bottom', 'line', 'movie', 'like', 'always', 'make', 'sure', 'audience', 'even', 'give', 'secret', 'password', 'enter', 'world', 'understand', 'mean', 'show', 'melissa', 'sagemiller', 'run', 'away', 'vision', '20', 'minute', 'throughout', 'movie', 'plain', 'lazy', 'okay', 'get', 'people', 'chase', 'know', 'really', 'need', 'see', 'give', 'us', 'different', 'scene', 'offer', 'insight', 'strangeness', 'go', 'movie', 'apparently', 'studio', 'take', 'film', 'away', 'director', 'chop', 'show', 'might', 'pretty', 'decent', 'teen', 'mind', 'fuck', 'movie', 'somewhere', 'guess', 'suit', 'decide', 'turn', 'music', 'video', 'little', 'edge', 'would', 'make', 'sense', 'actor', 'pretty', 'good', 'part', 'although', 'wes', 'bentley', 'seem', 'play', 'exact', 'character', 'american', 'beauty', 'new', 'neighborhood', 'big', 'kudos', 'go', 'sagemiller', 'hold', 'throughout', 'entire', 'film', 'actually', 'feel', 'character', 'unraveling', 'overall', 'film', 'stick', 'entertain', 'confusing', 'rarely', 'excite', 'feel', 'pretty', 'redundant', 'runtime', 'despite', 'pretty', 'cool', 'end', 'explanation', 'craziness', 'come', 'oh', 'way', 'horror', 'teen', 'slasher', 'flick', 'package', 'look', 'way', 'someone', 'apparently', 'assume', 'genre', 'still', 'hot', 'kid', 'also', 'wrap', 'production', 'two', 'year', 'ago', 'sit', 'shelf', 'ever', 'since', 'whatever', 'skip', 'joblo', 'come', 'nightmare', 'elm', 'street', '3', '7', '10', 'blair', 'witch', '2', '7', '10', 'crow', '9', '10', 'crow', 'salvation', '4', '10', 'lose', 'highway', '10', '10', 'memento', '10', '10', 'others', '9', '10', 'stir', 'echo', '8', '10']\n"
     ]
    }
   ],
   "source": [
    "from nltk.corpus import stopwords\n",
    "stop_words = stopwords.words('english')\n",
    "\n",
    "print(remove_noise(review_sample, stop_words))"
   ]
  },
  {
   "cell_type": "code",
   "execution_count": 201,
   "metadata": {},
   "outputs": [],
   "source": [
    "from nltk.corpus import stopwords\n",
    "stop_words = stopwords.words('english')\n",
    "\n",
    "neg_cleaned_tokens_list = [remove_noise(document[0], stop_words) for document in documents if document[1] == 'neg']\n",
    "pos_cleaned_tokens_list = [remove_noise(document[0], stop_words) for document in documents if document[1] == 'pos']\n"
   ]
  },
  {
   "cell_type": "markdown",
   "metadata": {},
   "source": [
    "#### Determining word density"
   ]
  },
  {
   "cell_type": "code",
   "execution_count": 202,
   "metadata": {},
   "outputs": [],
   "source": [
    "def get_all_words(cleaned_tokens_list):\n",
    "    for tokens in cleaned_tokens_list:\n",
    "        for token in tokens:\n",
    "            yield token\n",
    "\n",
    "pos_words = get_all_words(pos_cleaned_tokens_list)"
   ]
  },
  {
   "cell_type": "code",
   "execution_count": 203,
   "metadata": {},
   "outputs": [
    {
     "name": "stdout",
     "output_type": "stream",
     "text": [
      "[('film', 6171), ('movie', 3160), ('one', 3155), ('make', 2166), ('character', 2064), ('like', 1940), ('see', 1790), ('get', 1752), ('good', 1642), ('time', 1571)]\n"
     ]
    }
   ],
   "source": [
    "from nltk import FreqDist\n",
    "\n",
    "freq_pos = FreqDist(pos_words)\n",
    "print(freq_pos.most_common(10))"
   ]
  },
  {
   "cell_type": "markdown",
   "metadata": {},
   "source": [
    "#### Training model"
   ]
  },
  {
   "cell_type": "code",
   "execution_count": 204,
   "metadata": {},
   "outputs": [],
   "source": [
    "def get_words_for_model(cleaned_tokens_list):\n",
    "    for tokens in cleaned_tokens_list:\n",
    "        yield dict([token, True] for token in tokens)\n",
    "\n",
    "pos_tokens_for_model = get_tweets_for_model(pos_cleaned_tokens_list)\n",
    "neg_tokens_for_model = get_tweets_for_model(neg_cleaned_tokens_list)"
   ]
  },
  {
   "cell_type": "code",
   "execution_count": 205,
   "metadata": {},
   "outputs": [],
   "source": [
    "import random\n",
    "\n",
    "pos_dataset = [(doc_dict, \"Positive\")\n",
    "                     for doc_dict in pos_tokens_for_model]\n",
    "\n",
    "neg_dataset = [(doc_dict, \"Negative\")\n",
    "                     for doc_dict in neg_tokens_for_model]\n",
    "\n",
    "dataset = pos_dataset + neg_dataset\n",
    "\n",
    "random.shuffle(dataset)\n",
    "ntrain = (3 * len(dataset)) // 4\n",
    "\n",
    "train_data = dataset[:ntrain]\n",
    "test_data = dataset[ntrain:]"
   ]
  },
  {
   "cell_type": "code",
   "execution_count": 206,
   "metadata": {},
   "outputs": [
    {
     "name": "stdout",
     "output_type": "stream",
     "text": [
      "Accuracy is: 0.744\n",
      "Most Informative Features\n",
      "               stupidity = True           Negati : Positi =     17.4 : 1.0\n",
      "              refreshing = True           Positi : Negati =     11.9 : 1.0\n",
      "             outstanding = True           Positi : Negati =     11.9 : 1.0\n",
      "               ludicrous = True           Negati : Positi =     11.2 : 1.0\n",
      "                 immerse = True           Positi : Negati =     10.5 : 1.0\n",
      "              friendship = True           Positi : Negati =     10.3 : 1.0\n",
      "              schumacher = True           Negati : Positi =     10.2 : 1.0\n",
      "                  symbol = True           Positi : Negati =      9.6 : 1.0\n",
      "                 insipid = True           Negati : Positi =      9.5 : 1.0\n",
      "                    deft = True           Positi : Negati =      9.1 : 1.0\n",
      "None\n"
     ]
    }
   ],
   "source": [
    "from nltk import classify\n",
    "from nltk import NaiveBayesClassifier\n",
    "classifier = NaiveBayesClassifier.train(train_data)\n",
    "\n",
    "print(\"Accuracy is:\", classify.accuracy(classifier, test_data))\n",
    "\n",
    "print(classifier.show_most_informative_features(10))"
   ]
  },
  {
   "cell_type": "code",
   "execution_count": 207,
   "metadata": {
    "scrolled": false
   },
   "outputs": [
    {
     "name": "stdout",
     "output_type": "stream",
     "text": [
      "Negative\n",
      "plot : two teen couples go to a church party , drink and then drive . \n",
      "they get into an accident . \n",
      "one of the guys dies , but his girlfriend continues to see him in her life , and has nightmares . \n",
      "what's the deal ? \n",
      "watch the movie and \" sorta \" find out . . . \n",
      "critique : a mind-fuck movie for the teen generation that touches on a very cool idea , but presents it in a very bad package . \n",
      "which is what makes this review an even harder one to write , since i generally applaud films which attempt to break the mold , mess with your head and such ( lost highway & memento ) , but there are good and bad ways of making all types of films , and these folks just didn't snag this one correctly . \n",
      "they seem to have taken this pretty neat concept , but executed it terribly . \n",
      "so what are the problems with the movie ? \n",
      "well , its main problem is that it's simply too jumbled . \n",
      "it starts off \" normal \" but then downshifts into this \" fantasy \" world in which you , as an audience member , have no idea what's going on . \n",
      "there are dreams , there are characters coming back from the dead , there are others who look like the dead , there are strange apparitions , there are disappearances , there are a looooot of chase scenes , there are tons of weird things that happen , and most of it is simply not explained . \n",
      "now i personally don't mind trying to unravel a film every now and then , but when all it does is give me the same clue over and over again , i get kind of fed up after a while , which is this film's biggest problem . \n",
      "it's obviously got this big secret to hide , but it seems to want to hide it completely until its final five minutes . \n",
      "and do they make things entertaining , thrilling or even engaging , in the meantime ? \n",
      "not really . \n",
      "the sad part is that the arrow and i both dig on flicks like this , so we actually figured most of it out by the half-way point , so all of the strangeness after that did start to make a little bit of sense , but it still didn't the make the film all that more entertaining . \n",
      "i guess the bottom line with movies like this is that you should always make sure that the audience is \" into it \" even before they are given the secret password to enter your world of understanding . \n",
      "i mean , showing melissa sagemiller running away from visions for about 20 minutes throughout the movie is just plain lazy ! ! \n",
      "okay , we get it . . . there \n",
      "are people chasing her and we don't know who they are . \n",
      "do we really need to see it over and over again ? \n",
      "how about giving us different scenes offering further insight into all of the strangeness going down in the movie ? \n",
      "apparently , the studio took this film away from its director and chopped it up themselves , and it shows . \n",
      "there might've been a pretty decent teen mind-fuck movie in here somewhere , but i guess \" the suits \" decided that turning it into a music video with little edge , would make more sense . \n",
      "the actors are pretty good for the most part , although wes bentley just seemed to be playing the exact same character that he did in american beauty , only in a new neighborhood . \n",
      "but my biggest kudos go out to sagemiller , who holds her own throughout the entire film , and actually has you feeling her character's unraveling . \n",
      "overall , the film doesn't stick because it doesn't entertain , it's confusing , it rarely excites and it feels pretty redundant for most of its runtime , despite a pretty cool ending and explanation to all of the craziness that came before it . \n",
      "oh , and by the way , this is not a horror or teen slasher flick . . . it's \n",
      "just packaged to look that way because someone is apparently assuming that the genre is still hot with the kids . \n",
      "it also wrapped production two years ago and has been sitting on the shelves ever since . \n",
      "whatever . . . skip \n",
      "it ! \n",
      "where's joblo coming from ? \n",
      "a nightmare of elm street 3 ( 7/10 ) - blair witch 2 ( 7/10 ) - the crow ( 9/10 ) - the crow : salvation ( 4/10 ) - lost highway ( 10/10 ) - memento ( 10/10 ) - the others ( 9/10 ) - stir of echoes ( 8/10 ) \n",
      "\n",
      "-------------\n",
      "Positive\n",
      "films adapted from comic books have had plenty of success , whether they're about superheroes ( batman , superman , spawn ) , or geared toward kids ( casper ) or the arthouse crowd ( ghost world ) , but there's never really been a comic book like from hell before . \n",
      "for starters , it was created by alan moore ( and eddie campbell ) , who brought the medium to a whole new level in the mid '80s with a 12-part series called the watchmen . \n",
      "to say moore and campbell thoroughly researched the subject of jack the ripper would be like saying michael jackson is starting to look a little odd . \n",
      "the book ( or \" graphic novel , \" if you will ) is over 500 pages long and includes nearly 30 more that consist of nothing but footnotes . \n",
      "in other words , don't dismiss this film because of its source . \n",
      "if you can get past the whole comic book thing , you might find another stumbling block in from hell's directors , albert and allen hughes . \n",
      "getting the hughes brothers to direct this seems almost as ludicrous as casting carrot top in , well , anything , but riddle me this : who better to direct a film that's set in the ghetto and features really violent street crime than the mad geniuses behind menace ii society ? \n",
      "the ghetto in question is , of course , whitechapel in 1888 london's east end . \n",
      "it's a filthy , sooty place where the whores ( called \" unfortunates \" ) are starting to get a little nervous about this mysterious psychopath who has been carving through their profession with surgical precision . \n",
      "when the first stiff turns up , copper peter godley ( robbie coltrane , the world is not enough ) calls in inspector frederick abberline ( johnny depp , blow ) to crack the case . \n",
      "abberline , a widower , has prophetic dreams he unsuccessfully tries to quell with copious amounts of absinthe and opium . \n",
      "upon arriving in whitechapel , he befriends an unfortunate named mary kelly ( heather graham , say it isn't so ) and proceeds to investigate the horribly gruesome crimes that even the police surgeon can't stomach . \n",
      "i don't think anyone needs to be briefed on jack the ripper , so i won't go into the particulars here , other than to say moore and campbell have a unique and interesting theory about both the identity of the killer and the reasons he chooses to slay . \n",
      "in the comic , they don't bother cloaking the identity of the ripper , but screenwriters terry hayes ( vertical limit ) and rafael yglesias ( les mis ? rables ) do a good job of keeping him hidden from viewers until the very end . \n",
      "it's funny to watch the locals blindly point the finger of blame at jews and indians because , after all , an englishman could never be capable of committing such ghastly acts . \n",
      "and from hell's ending had me whistling the stonecutters song from the simpsons for days ( \" who holds back the electric car/who made steve guttenberg a star ? \" ) . \n",
      "don't worry - it'll all make sense when you see it . \n",
      "now onto from hell's appearance : it's certainly dark and bleak enough , and it's surprising to see how much more it looks like a tim burton film than planet of the apes did ( at times , it seems like sleepy hollow 2 ) . \n",
      "the print i saw wasn't completely finished ( both color and music had not been finalized , so no comments about marilyn manson ) , but cinematographer peter deming ( don't say a word ) ably captures the dreariness of victorian-era london and helped make the flashy killing scenes remind me of the crazy flashbacks in twin peaks , even though the violence in the film pales in comparison to that in the black-and-white comic . \n",
      "oscar winner martin childs' ( shakespeare in love ) production design turns the original prague surroundings into one creepy place . \n",
      "even the acting in from hell is solid , with the dreamy depp turning in a typically strong performance and deftly handling a british accent . \n",
      "ians holm ( joe gould's secret ) and richardson ( 102 dalmatians ) log in great supporting roles , but the big surprise here is graham . \n",
      "i cringed the first time she opened her mouth , imagining her attempt at an irish accent , but it actually wasn't half bad . \n",
      "the film , however , is all good . \n",
      "2 : 00 - r for strong violence/gore , sexuality , language and drug content \n",
      "\n"
     ]
    }
   ],
   "source": [
    "from nltk.tokenize import word_tokenize\n",
    "\n",
    "# Get the first review id\n",
    "fileids = [fileid for fileid in movie_reviews.fileids('neg')]\n",
    "f = open(movie_reviews.abspath(fileids[0]), \"r\")\n",
    "review0 = f.read()\n",
    "\n",
    "fileids = [fileid for fileid in movie_reviews.fileids('pos')]\n",
    "f = open(movie_reviews.abspath(fileids[0]), \"r\")\n",
    "review1 = f.read()\n",
    "\n",
    "# Check if classifier this review correctly\n",
    "custom_tokens = remove_noise(word_tokenize(review0))\n",
    "\n",
    "print(classifier.classify(dict([token, True] for token in custom_tokens)))\n",
    "print(review0)\n",
    "\n",
    "# Check if classifier this review correctly\n",
    "custom_tokens = remove_noise(word_tokenize(review1))\n",
    "\n",
    "print('-------------')\n",
    "print(classifier.classify(dict([token, True] for token in custom_tokens)))\n",
    "print(review1)"
   ]
  },
  {
   "cell_type": "code",
   "execution_count": null,
   "metadata": {},
   "outputs": [],
   "source": []
  },
  {
   "cell_type": "code",
   "execution_count": null,
   "metadata": {},
   "outputs": [],
   "source": []
  },
  {
   "cell_type": "markdown",
   "metadata": {},
   "source": [
    "### Twitter"
   ]
  },
  {
   "cell_type": "code",
   "execution_count": 208,
   "metadata": {},
   "outputs": [],
   "source": [
    "from nltk.corpus import twitter_samples\n",
    "\n",
    "positive_tweets = twitter_samples.strings('positive_tweets.json')\n",
    "negative_tweets = twitter_samples.strings('negative_tweets.json')\n",
    "text = twitter_samples.strings('tweets.20150430-223406.json')"
   ]
  },
  {
   "cell_type": "markdown",
   "metadata": {},
   "source": [
    "- negative_tweets.json: 5000 tweets with negative sentiments\n",
    "- positive_tweets.json: 5000 tweets with positive sentiments\n",
    "- tweets.20150430-223406.json: 20000 tweets with no sentiments"
   ]
  },
  {
   "cell_type": "code",
   "execution_count": 209,
   "metadata": {},
   "outputs": [],
   "source": [
    "import nltk"
   ]
  },
  {
   "cell_type": "markdown",
   "metadata": {},
   "source": [
    "#### Tokenize"
   ]
  },
  {
   "cell_type": "code",
   "execution_count": 210,
   "metadata": {},
   "outputs": [],
   "source": [
    "tweet_tokens = twitter_samples.tokenized('positive_tweets.json')"
   ]
  },
  {
   "cell_type": "code",
   "execution_count": 211,
   "metadata": {
    "scrolled": true
   },
   "outputs": [
    {
     "name": "stdout",
     "output_type": "stream",
     "text": [
      "[('#FollowFriday', 'JJ'), ('@France_Inte', 'NNP'), ('@PKuchly57', 'NNP'), ('@Milipol_Paris', 'NNP'), ('for', 'IN'), ('being', 'VBG'), ('top', 'JJ'), ('engaged', 'VBN'), ('members', 'NNS'), ('in', 'IN'), ('my', 'PRP$'), ('community', 'NN'), ('this', 'DT'), ('week', 'NN'), (':)', 'NN')]\n"
     ]
    }
   ],
   "source": [
    "from nltk.tag import pos_tag\n",
    "\n",
    "print(pos_tag(tweet_tokens[0]))"
   ]
  },
  {
   "cell_type": "markdown",
   "metadata": {},
   "source": [
    "From the list of tags, here is the list of the most common items and their meaning:\n",
    "\n",
    "- NNP: Noun, proper, singular\n",
    "- NN: Noun, common, singular or mass\n",
    "- IN: Preposition or conjunction, subordinating\n",
    "- VBG: Verb, gerund or present participle\n",
    "- VBN: Verb, past participle"
   ]
  },
  {
   "cell_type": "markdown",
   "metadata": {},
   "source": [
    "#### Normalize"
   ]
  },
  {
   "cell_type": "code",
   "execution_count": 212,
   "metadata": {},
   "outputs": [
    {
     "name": "stdout",
     "output_type": "stream",
     "text": [
      "['#FollowFriday', '@France_Inte', '@PKuchly57', '@Milipol_Paris', 'for', 'be', 'top', 'engage', 'member', 'in', 'my', 'community', 'this', 'week', ':)']\n"
     ]
    }
   ],
   "source": [
    "from nltk.tag import pos_tag\n",
    "from nltk.stem.wordnet import WordNetLemmatizer\n",
    "\n",
    "def lemmatize_sentence(tokens):\n",
    "    lemmatizer = WordNetLemmatizer()\n",
    "    lemmatized_sentence = []\n",
    "    for word, tag in pos_tag(tokens):\n",
    "        if tag.startswith('NN'):\n",
    "            pos = 'n'\n",
    "        elif tag.startswith('VB'):\n",
    "            pos = 'v'\n",
    "        else:\n",
    "            pos = 'a'\n",
    "        lemmatized_sentence.append(lemmatizer.lemmatize(word, pos))\n",
    "    return lemmatized_sentence\n",
    "\n",
    "print(lemmatize_sentence(tweet_tokens[0]))"
   ]
  },
  {
   "cell_type": "markdown",
   "metadata": {},
   "source": [
    "#### Remove noise"
   ]
  },
  {
   "cell_type": "code",
   "execution_count": 213,
   "metadata": {},
   "outputs": [],
   "source": [
    "import re, string\n",
    "\n",
    "def remove_noise(tweet_tokens, stop_words = ()):\n",
    "\n",
    "    cleaned_tokens = []\n",
    "\n",
    "    for token, tag in pos_tag(tweet_tokens):\n",
    "        token = re.sub('http[s]?://(?:[a-zA-Z]|[0-9]|[$-_@.&+#]|[!*\\(\\),]|'\\\n",
    "                       '(?:%[0-9a-fA-F][0-9a-fA-F]))+','', token)\n",
    "        token = re.sub(\"(@[A-Za-z0-9_]+)\",\"\", token)\n",
    "\n",
    "        if tag.startswith(\"NN\"):\n",
    "            pos = 'n'\n",
    "        elif tag.startswith('VB'):\n",
    "            pos = 'v'\n",
    "        else:\n",
    "            pos = 'a'\n",
    "\n",
    "        lemmatizer = WordNetLemmatizer()\n",
    "        token = lemmatizer.lemmatize(token, pos)\n",
    "\n",
    "        if len(token) > 0 and token not in string.punctuation and token.lower() not in stop_words:\n",
    "            cleaned_tokens.append(token.lower())\n",
    "    return cleaned_tokens"
   ]
  },
  {
   "cell_type": "code",
   "execution_count": 214,
   "metadata": {},
   "outputs": [
    {
     "name": "stdout",
     "output_type": "stream",
     "text": [
      "['#followfriday', 'top', 'engage', 'member', 'community', 'week', ':)']\n"
     ]
    }
   ],
   "source": [
    "from nltk.corpus import stopwords\n",
    "stop_words = stopwords.words('english')\n",
    "\n",
    "print(remove_noise(tweet_tokens[0], stop_words))"
   ]
  },
  {
   "cell_type": "code",
   "execution_count": 215,
   "metadata": {},
   "outputs": [],
   "source": [
    "from nltk.corpus import stopwords\n",
    "stop_words = stopwords.words('english')\n",
    "\n",
    "positive_tweet_tokens = twitter_samples.tokenized('positive_tweets.json')\n",
    "negative_tweet_tokens = twitter_samples.tokenized('negative_tweets.json')\n",
    "\n",
    "positive_cleaned_tokens_list = []\n",
    "negative_cleaned_tokens_list = []\n",
    "\n",
    "for tokens in positive_tweet_tokens:\n",
    "    positive_cleaned_tokens_list.append(remove_noise(tokens, stop_words))\n",
    "\n",
    "for tokens in negative_tweet_tokens:\n",
    "    negative_cleaned_tokens_list.append(remove_noise(tokens, stop_words))"
   ]
  },
  {
   "cell_type": "markdown",
   "metadata": {},
   "source": []
  },
  {
   "cell_type": "markdown",
   "metadata": {},
   "source": [
    "#### Determining word density"
   ]
  },
  {
   "cell_type": "code",
   "execution_count": 216,
   "metadata": {},
   "outputs": [],
   "source": [
    "def get_all_words(cleaned_tokens_list):\n",
    "    for tokens in cleaned_tokens_list:\n",
    "        for token in tokens:\n",
    "            yield token\n",
    "\n",
    "all_pos_words = get_all_words(positive_cleaned_tokens_list)"
   ]
  },
  {
   "cell_type": "code",
   "execution_count": 217,
   "metadata": {},
   "outputs": [
    {
     "name": "stdout",
     "output_type": "stream",
     "text": [
      "[(':)', 3691), (':-)', 701), (':d', 658), ('thanks', 388), ('follow', 357), ('love', 333), ('...', 290), ('good', 283), ('get', 263), ('thank', 253)]\n"
     ]
    }
   ],
   "source": [
    "from nltk import FreqDist\n",
    "\n",
    "freq_dist_pos = FreqDist(all_pos_words)\n",
    "print(freq_dist_pos.most_common(10))"
   ]
  },
  {
   "cell_type": "markdown",
   "metadata": {},
   "source": [
    "#### Training model"
   ]
  },
  {
   "cell_type": "code",
   "execution_count": 218,
   "metadata": {},
   "outputs": [],
   "source": [
    "def get_tweets_for_model(cleaned_tokens_list):\n",
    "    for tweet_tokens in cleaned_tokens_list:\n",
    "        yield dict([token, True] for token in tweet_tokens)\n",
    "\n",
    "positive_tokens_for_model = get_tweets_for_model(positive_cleaned_tokens_list)\n",
    "negative_tokens_for_model = get_tweets_for_model(negative_cleaned_tokens_list)"
   ]
  },
  {
   "cell_type": "code",
   "execution_count": 219,
   "metadata": {},
   "outputs": [],
   "source": [
    "import random\n",
    "\n",
    "positive_dataset = [(tweet_dict, \"Positive\")\n",
    "                     for tweet_dict in positive_tokens_for_model]\n",
    "\n",
    "negative_dataset = [(tweet_dict, \"Negative\")\n",
    "                     for tweet_dict in negative_tokens_for_model]\n",
    "\n",
    "dataset = positive_dataset + negative_dataset\n",
    "\n",
    "random.shuffle(dataset)\n",
    "\n",
    "train_data = dataset[:7000]\n",
    "test_data = dataset[7000:]"
   ]
  },
  {
   "cell_type": "code",
   "execution_count": 220,
   "metadata": {},
   "outputs": [
    {
     "name": "stdout",
     "output_type": "stream",
     "text": [
      "Accuracy is: 0.996\n",
      "Most Informative Features\n",
      "                      :( = True           Negati : Positi =   2031.4 : 1.0\n",
      "                      :) = True           Positi : Negati =   1008.6 : 1.0\n",
      "                follower = True           Positi : Negati =     33.9 : 1.0\n",
      "                    sick = True           Negati : Positi =     20.5 : 1.0\n",
      "                     sad = True           Negati : Positi =     19.8 : 1.0\n",
      "              appreciate = True           Positi : Negati =     15.4 : 1.0\n",
      "                 welcome = True           Positi : Negati =     15.4 : 1.0\n",
      "               community = True           Positi : Negati =     13.3 : 1.0\n",
      "                    glad = True           Positi : Negati =     12.9 : 1.0\n",
      "                   didnt = True           Negati : Positi =     12.7 : 1.0\n",
      "None\n"
     ]
    }
   ],
   "source": [
    "from nltk import classify\n",
    "from nltk import NaiveBayesClassifier\n",
    "classifier = NaiveBayesClassifier.train(train_data)\n",
    "\n",
    "print(\"Accuracy is:\", classify.accuracy(classifier, test_data))\n",
    "\n",
    "print(classifier.show_most_informative_features(10))"
   ]
  },
  {
   "cell_type": "code",
   "execution_count": 221,
   "metadata": {},
   "outputs": [
    {
     "name": "stdout",
     "output_type": "stream",
     "text": [
      "Negative\n"
     ]
    }
   ],
   "source": [
    "from nltk.tokenize import word_tokenize\n",
    "\n",
    "custom_tweet = \"I ordered just once from TerribleCo, they screwed up, never used the app again.\"\n",
    "\n",
    "custom_tokens = remove_noise(word_tokenize(custom_tweet))\n",
    "\n",
    "print(classifier.classify(dict([token, True] for token in custom_tokens)))"
   ]
  },
  {
   "cell_type": "code",
   "execution_count": null,
   "metadata": {},
   "outputs": [],
   "source": []
  },
  {
   "cell_type": "code",
   "execution_count": null,
   "metadata": {},
   "outputs": [],
   "source": []
  },
  {
   "cell_type": "code",
   "execution_count": null,
   "metadata": {},
   "outputs": [],
   "source": []
  },
  {
   "cell_type": "code",
   "execution_count": null,
   "metadata": {},
   "outputs": [],
   "source": []
  },
  {
   "cell_type": "code",
   "execution_count": null,
   "metadata": {},
   "outputs": [],
   "source": []
  },
  {
   "cell_type": "code",
   "execution_count": null,
   "metadata": {},
   "outputs": [],
   "source": []
  },
  {
   "cell_type": "code",
   "execution_count": null,
   "metadata": {},
   "outputs": [],
   "source": []
  },
  {
   "cell_type": "code",
   "execution_count": null,
   "metadata": {},
   "outputs": [],
   "source": []
  },
  {
   "cell_type": "markdown",
   "metadata": {},
   "source": [
    "### Reference\n",
    "\n",
    "https://www.datacamp.com/community/tutorials/simplifying-sentiment-analysis-python\n",
    "\n",
    "https://www.digitalocean.com/community/tutorials/how-to-perform-sentiment-analysis-in-python-3-using-the-natural-language-toolkit-nltk\n"
   ]
  }
 ],
 "metadata": {
  "kernelspec": {
   "display_name": "Python 3",
   "language": "python",
   "name": "python3"
  },
  "language_info": {
   "codemirror_mode": {
    "name": "ipython",
    "version": 3
   },
   "file_extension": ".py",
   "mimetype": "text/x-python",
   "name": "python",
   "nbconvert_exporter": "python",
   "pygments_lexer": "ipython3",
   "version": "3.7.3"
  }
 },
 "nbformat": 4,
 "nbformat_minor": 4
}
